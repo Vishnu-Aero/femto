{
 "cells": [
  {
   "cell_type": "markdown",
   "id": "c0fe8cc5-35bc-4bf3-b536-7a9e4eb1e1ad",
   "metadata": {
    "tags": []
   },
   "source": [
    "# AE 484 - Mid Semester Exam: Solution \n",
    "**Amuthan Ramabathiran**  \n",
    "IIT Bombay  "
   ]
  },
  {
   "cell_type": "code",
   "execution_count": 2,
   "id": "3d0f4fa1-aa45-4487-b174-17f95666ecda",
   "metadata": {},
   "outputs": [],
   "source": [
    "import numpy as np\n",
    "import matplotlib.pyplot as plt\n",
    "import fem_1d_modular as fem"
   ]
  },
  {
   "cell_type": "markdown",
   "id": "c5a17080-875e-41ae-bfea-b7a02995374f",
   "metadata": {},
   "source": [
    "### Question 1\n",
    "#### Part a"
   ]
  },
  {
   "cell_type": "code",
   "execution_count": 3,
   "id": "429a4b2b-742d-49d6-9c16-8b3d06d90265",
   "metadata": {},
   "outputs": [
    {
     "data": {
      "text/plain": [
       "Text(0, 0.5, 'p-norm of f')"
      ]
     },
     "execution_count": 3,
     "metadata": {},
     "output_type": "execute_result"
    },
    {
     "data": {
      "image/png": "[encoded data removed]",
      "text/plain": [
       "<Figure size 432x288 with 1 Axes>"
      ]
     },
     "metadata": {
      "needs_background": "light"
     },
     "output_type": "display_data"
    }
   ],
   "source": [
    "pi = np.pi\n",
    "\n",
    "def f(x):\n",
    "    return np.sin(2*pi*x)\n",
    "\n",
    "\n",
    "def norm_Lp(f, p=2, a=0, b=1, n_div=10, n_quad=3):\n",
    "    h = (b - a)/n_div\n",
    "    norm = 0.0\n",
    "    for i in range(n_div):\n",
    "        xL = a + i*h\n",
    "        xR = a + (i + 1)*h\n",
    "        g = lambda x: np.power(np.abs(f(x)), p)\n",
    "        norm += fem.integrate_GL_quad(g, xL, xR, n_quad)\n",
    "    norm = np.power(norm, (1/p))\n",
    "    return norm\n",
    "\n",
    "ps = np.array([1, 2, 3, 4, 5, 10, 20, 50, 100, 200], dtype=int)\n",
    "ns = np.array([norm_Lp(f, p) for p in ps])\n",
    "\n",
    "plt.plot(ps, ns, 'bo-', lw=2)\n",
    "plt.xlabel('p')\n",
    "plt.ylabel('p-norm of f')"
   ]
  },
  {
   "cell_type": "markdown",
   "id": "989ca517-a923-43b6-a671-2fc8c1c1d200",
   "metadata": {},
   "source": [
    "As can be seen from the plot, the $L^p$ norm of $f$ increases as $p$ increases and asymptotes to $1$ for large $p$. The $L^\\infty$ norm of $f$, which is the maximum value of $f$ over the interval $[0,1]$, is equal to this asymptotic limit, as expected."
   ]
  },
  {
   "cell_type": "markdown",
   "id": "7a798cce-67c0-4c81-8a1a-f7065b2263e9",
   "metadata": {},
   "source": [
    "#### Part b"
   ]
  },
  {
   "cell_type": "code",
   "execution_count": 4,
   "id": "2e424344-4531-4d15-aa98-8ead0b546013",
   "metadata": {},
   "outputs": [
    {
     "data": {
      "text/plain": [
       "4.49880081823798"
      ]
     },
     "execution_count": 4,
     "metadata": {},
     "output_type": "execute_result"
    }
   ],
   "source": [
    "def dfdx(x):\n",
    "    return 2*pi*np.cos(2*pi*x)\n",
    "\n",
    "\n",
    "def norm_H1(f, dfdx, a=0, b=1, n_div=10, n_quad=3):\n",
    "    h = (b - a)/n_div\n",
    "    norm = norm_Lp(f, p=2)**2\n",
    "    for i in range(n_div):\n",
    "        xL = a + i*h\n",
    "        xR = a + (i + 1)*h\n",
    "        g = lambda x: dfdx(x)**2\n",
    "        norm += fem.integrate_GL_quad(g, xL, xR, n_quad=2)\n",
    "    norm = np.sqrt(norm)\n",
    "    return norm\n",
    "\n",
    "norm_H1(f, dfdx)"
   ]
  },
  {
   "cell_type": "markdown",
   "id": "bf2e3bbe-67c7-4bc9-b030-fea859333634",
   "metadata": {},
   "source": [
    "To verify that the code is correct, note that the exact $H^1$ norm of $f$ is computed analytically as $\\sqrt{(1 + 4\\pi^2)/2}$:"
   ]
  },
  {
   "cell_type": "code",
   "execution_count": 5,
   "id": "d5950d2c-2871-4e7d-bb47-a69f870e1f07",
   "metadata": {},
   "outputs": [
    {
     "data": {
      "text/plain": [
       "4.49880081823798"
      ]
     },
     "execution_count": 5,
     "metadata": {},
     "output_type": "execute_result"
    }
   ],
   "source": [
    "np.sqrt((1 + 4*pi*pi)/2)"
   ]
  },
  {
   "cell_type": "markdown",
   "id": "f0bbfa2d-3724-4a45-a6b4-94b7efe50be7",
   "metadata": {},
   "source": [
    "We thus see that the computation of the $H^1$ norm is indeed correct."
   ]
  },
  {
   "cell_type": "markdown",
   "id": "7aaa53f7-bcb1-4086-b3c1-4a58c165037d",
   "metadata": {},
   "source": [
    "#### Part c"
   ]
  },
  {
   "cell_type": "code",
   "execution_count": 6,
   "id": "d502f0e6-b834-447c-a056-8990f84697c6",
   "metadata": {},
   "outputs": [
    {
     "data": {
      "text/plain": [
       "<matplotlib.legend.Legend at 0x200feb3ffa0>"
      ]
     },
     "execution_count": 6,
     "metadata": {},
     "output_type": "execute_result"
    },
    {
     "data": {
      "image/png": "[encoded data removed]",
      "text/plain": [
       "<Figure size 432x288 with 1 Axes>"
      ]
     },
     "metadata": {
      "needs_background": "light"
     },
     "output_type": "display_data"
    }
   ],
   "source": [
    "def g(x):\n",
    "    return f(x) + 0.1*np.sin(50*pi*x)\n",
    "\n",
    "def dgdx(x):\n",
    "    return dfdx(x) + 5*pi*np.cos(50*pi*x)\n",
    "\n",
    "\n",
    "xs = np.linspace(0, 1, 200)\n",
    "fs = f(xs)\n",
    "gs = g(xs)\n",
    "\n",
    "plt.plot(xs, fs, 'b-', lw=2, label='f')\n",
    "plt.plot(xs, gs, 'r-', lw=2, label='g')\n",
    "plt.xlabel('x')\n",
    "plt.ylabel('y')\n",
    "plt.legend()"
   ]
  },
  {
   "cell_type": "code",
   "execution_count": 7,
   "id": "641e023b-1377-46f0-8e91-9f141967533d",
   "metadata": {},
   "outputs": [
    {
     "name": "stdout",
     "output_type": "stream",
     "text": [
      "0.7071067811865476 0.7139900336109357\n"
     ]
    }
   ],
   "source": [
    "print(norm_Lp(f, 2), norm_Lp(g, 2))"
   ]
  },
  {
   "cell_type": "code",
   "execution_count": 8,
   "id": "7b79968b-370b-4837-b3c2-ae2895e46fbf",
   "metadata": {},
   "outputs": [
    {
     "name": "stdout",
     "output_type": "stream",
     "text": [
      "4.49880081823798 16.10164625703246\n"
     ]
    }
   ],
   "source": [
    "print(norm_H1(f, dfdx), norm_H1(g, dgdx))"
   ]
  },
  {
   "cell_type": "markdown",
   "id": "fec0aac8-94dd-4481-bfbd-34f64a27dca0",
   "metadata": {},
   "source": [
    "It can be seen from the calculations that the functions $f$ and $g$ are close to each other according to the $L^2$ norm, but are quite far apart with respect to the $H^1$ norm."
   ]
  },
  {
   "cell_type": "markdown",
   "id": "5a7e59bd-fc68-432d-9670-a193578e8dba",
   "metadata": {},
   "source": [
    "### Question 2\n",
    "#### Part a\n",
    "\n",
    "The exact solution is $u(x) = 10 \\exp(-5x)$."
   ]
  },
  {
   "cell_type": "markdown",
   "id": "7fc213b8-8037-4410-9874-5227132c7c55",
   "metadata": {},
   "source": [
    "#### Part b"
   ]
  },
  {
   "cell_type": "code",
   "execution_count": 9,
   "id": "79332d42-3a80-4f8f-bfd5-2edd4c6632bc",
   "metadata": {},
   "outputs": [],
   "source": [
    "fem.f = lambda x: 100*(2 - 10*x)*np.exp(-10*x)\n",
    "fem.u_exact = lambda x: 10*x*(np.exp(-10*x) - np.exp(-10))"
   ]
  },
  {
   "cell_type": "code",
   "execution_count": 10,
   "id": "456fabf4-80a9-4077-aa44-127327be951e",
   "metadata": {},
   "outputs": [
    {
     "data": {
      "image/png": "[encoded data removed]",
      "text/plain": [
       "<Figure size 432x288 with 1 Axes>"
      ]
     },
     "metadata": {
      "needs_background": "light"
     },
     "output_type": "display_data"
    }
   ],
   "source": [
    "n_elt = 5\n",
    "n_quad = 3\n",
    "nodes, elements, dbc = fem.create_mesh_1d_uniform(n_elt)\n",
    "uh = fem.solve_bvp(nodes, elements, dbc, n_quad=n_quad)\n",
    "fem.plot_fem_soln(nodes, elements, uh)"
   ]
  },
  {
   "cell_type": "code",
   "execution_count": 11,
   "id": "bb56c7de-bca4-4d57-ac04-9f09a369c2f3",
   "metadata": {},
   "outputs": [
    {
     "name": "stdout",
     "output_type": "stream",
     "text": [
      "Error with uniform mesh = 0.08011641222316106\n"
     ]
    }
   ],
   "source": [
    "err_L2_uniform = fem.compute_L2_error(nodes, elements, uh)\n",
    "print(f'Error with uniform mesh = {err_L2_uniform}')"
   ]
  },
  {
   "cell_type": "markdown",
   "id": "451a2b50-0138-4965-8dad-9394f7e26c3c",
   "metadata": {},
   "source": [
    "It can be seen that the FEM solution with $5$ uniform elements has a large error.\n",
    "\n",
    "#### Part c\n",
    "\n",
    "The code for the non-uniform mesh with element sizes scaled according to a geometric sequence is implemented as follows:"
   ]
  },
  {
   "cell_type": "code",
   "execution_count": 12,
   "id": "328f2a92-0c2c-47b2-9c10-35f2910f668a",
   "metadata": {},
   "outputs": [],
   "source": [
    "def create_nonuniform_mesh_1d(n_elt, scale=2.0):\n",
    "    if scale < 1.0:\n",
    "        h = (1 - scale)/(1 - np.power(scale, n_elt))\n",
    "    elif scale > 1.0:\n",
    "        h = (scale - 1)/(np.power(scale, n_elt) - 1)\n",
    "    elif abs(scale - 1) < 1e-6:\n",
    "        h = 1/n_elt\n",
    "    x = 0.0\n",
    "    nodes = []\n",
    "    for i in range(n_elt + 1):\n",
    "        nodes.append(x)\n",
    "        x += h\n",
    "        h *= scale\n",
    "    nodes = np.array(nodes)\n",
    "    elements = []\n",
    "    for i in range(n_elt):\n",
    "        elements.append([i, i+1])\n",
    "    dbc = [[0, 0.0], [n_elt, 0.0]]\n",
    "    return nodes, elements, dbc"
   ]
  },
  {
   "cell_type": "code",
   "execution_count": 13,
   "id": "1da48238-393b-42c4-a2a6-23674a17c216",
   "metadata": {},
   "outputs": [
    {
     "name": "stdout",
     "output_type": "stream",
     "text": [
      "[0.         0.03225806 0.09677419 0.22580645 0.48387097 1.        ]\n",
      "[[4, 0], [0, 1], [1, 2], [2, 3], [3, 5]]\n",
      "[[0, 0.0], [5, 0.0]]\n"
     ]
    }
   ],
   "source": [
    "nodes, elemetns, dbc = create_nonuniform_mesh_1d(5, scale=2.0)\n",
    "print(nodes)\n",
    "print(elements)\n",
    "print(dbc)"
   ]
  },
  {
   "cell_type": "markdown",
   "id": "ec6dac4a-b8c7-49c8-bdc4-17fb9b47b82e",
   "metadata": {},
   "source": [
    "We see that the nodes are indeed stacked up closer to each other on the left end, as we would like it to be.\n",
    "\n",
    "#### Part d\n",
    "\n",
    "We can now study the effect of non-uniform meshes on the FEM error."
   ]
  },
  {
   "cell_type": "code",
   "execution_count": 14,
   "id": "ef4c2bf7-b267-4ced-b982-7bdb7097c14f",
   "metadata": {},
   "outputs": [
    {
     "data": {
      "image/png": "[encoded data removed]",
      "text/plain": [
       "<Figure size 432x288 with 1 Axes>"
      ]
     },
     "metadata": {
      "needs_background": "light"
     },
     "output_type": "display_data"
    }
   ],
   "source": [
    "nodes, elements, dbc = create_nonuniform_mesh_1d(5, scale=2)\n",
    "uh_nu = fem.solve_bvp(nodes, elements, dbc, n_quad=3)\n",
    "fem.plot_fem_soln(nodes, elements, uh_nu)"
   ]
  },
  {
   "cell_type": "code",
   "execution_count": 15,
   "id": "58b54008-cc75-4d86-916f-fd05c813b652",
   "metadata": {},
   "outputs": [
    {
     "name": "stdout",
     "output_type": "stream",
     "text": [
      "Error with non-uniform mesh = 0.017882227961933117\n"
     ]
    }
   ],
   "source": [
    "err_L2_nu = fem.compute_L2_error(nodes, elements, uh_nu)\n",
    "print(f'Error with non-uniform mesh = {err_L2_nu}')"
   ]
  },
  {
   "cell_type": "code",
   "execution_count": 16,
   "id": "b6c17c8a-5a14-4c3d-a8e8-95efa7ce63ab",
   "metadata": {},
   "outputs": [
    {
     "name": "stdout",
     "output_type": "stream",
     "text": [
      "Factor of decrease in L2 error = 4.480225416749483\n"
     ]
    }
   ],
   "source": [
    "print(f'Factor of decrease in L2 error = {err_L2_uniform/err_L2_nu}')"
   ]
  },
  {
   "cell_type": "markdown",
   "id": "440bc983-578f-4a1c-b971-34cb854b4ab8",
   "metadata": {},
   "source": [
    "Thus, the error decreases by a factor of 4.5 for the *same* number of nodes when using a proper non-uniform mesh."
   ]
  },
  {
   "cell_type": "markdown",
   "id": "28c89709-2345-4f31-8f4a-079135e31722",
   "metadata": {},
   "source": [
    "Let us now consider a badly chosen non-uniform mesh. "
   ]
  },
  {
   "cell_type": "code",
   "execution_count": 17,
   "id": "116e40e2-efa1-4870-b44c-95649e5f426c",
   "metadata": {},
   "outputs": [
    {
     "data": {
      "image/png": "[encoded data removed]",
      "text/plain": [
       "<Figure size 432x288 with 1 Axes>"
      ]
     },
     "metadata": {
      "needs_background": "light"
     },
     "output_type": "display_data"
    }
   ],
   "source": [
    "nodes, elements, dbc = create_nonuniform_mesh_1d(5, scale=0.5)\n",
    "uh_nu_bad = fem.solve_bvp(nodes, elements, dbc, n_quad=3)\n",
    "fem.plot_fem_soln(nodes, elements, uh_nu_bad)"
   ]
  },
  {
   "cell_type": "code",
   "execution_count": 18,
   "id": "c2388f20-66ae-49fb-ba6e-7bc6090190f3",
   "metadata": {},
   "outputs": [
    {
     "name": "stdout",
     "output_type": "stream",
     "text": [
      "Error with improperly chosen non-uniform mesh = 0.14572092902248532\n",
      "Factor of increase in L2 error = 1.8188648864677752\n"
     ]
    }
   ],
   "source": [
    "err_L2_nu_bad = fem.compute_L2_error(nodes, elements, uh_nu_bad)\n",
    "print(f'Error with improperly chosen non-uniform mesh = {err_L2_nu_bad}')\n",
    "print(f'Factor of increase in L2 error = {err_L2_nu_bad/err_L2_uniform}')"
   ]
  },
  {
   "cell_type": "markdown",
   "id": "95dbf5e6-98a3-489f-8210-a73ba30d298b",
   "metadata": {},
   "source": [
    "This informs us that the specific choice of a non-uniform mesh can have a significant impact on the nature of the FEM error."
   ]
  },
  {
   "cell_type": "markdown",
   "id": "2c6013db-91cf-4074-86c5-43ec696a95e0",
   "metadata": {},
   "source": [
    "### Question 3 (optional question)\n",
    "\n",
    "The strategy here is simple. Apply $F$ in increments of $\\Delta F$ from $0$ to $F_{max}$, and compute the corresponding tip displacements $u(F)$. We can then infer what the peeling force is based on the graph of $u$ vs $F$.  "
   ]
  },
  {
   "cell_type": "code",
   "execution_count": 19,
   "id": "a2e34460-eba5-4e21-8be4-888554bc5cfa",
   "metadata": {},
   "outputs": [
    {
     "data": {
      "text/plain": [
       "Text(0, 0.5, 'Total Momo force')"
      ]
     },
     "execution_count": 19,
     "metadata": {},
     "output_type": "execute_result"
    },
    {
     "data": {
      "image/png": "[encoded data removed]",
      "text/plain": [
       "<Figure size 432x288 with 1 Axes>"
      ]
     },
     "metadata": {
      "needs_background": "light"
     },
     "output_type": "display_data"
    }
   ],
   "source": [
    "from scipy.sparse.linalg import spsolve\n",
    "\n",
    "n_elt = 10\n",
    "n_quad = 3\n",
    "\n",
    "dF = 0.05\n",
    "nF = 10\n",
    "\n",
    "Fs = []\n",
    "Us = []\n",
    "\n",
    "nodes, elements, dbc = fem.create_mesh_1d_uniform(n_elt)\n",
    "dbc = [[0, 0.0]] # DBC has to be modified to fix only the left end\n",
    "\n",
    "dof = fem.create_dof(nodes, dbc)\n",
    "fem.renumber_mesh_dof(nodes, elements, dof)\n",
    "\n",
    "# Modify body force\n",
    "def f(x, F):\n",
    "    if x > 0.8:\n",
    "        return F\n",
    "    else:\n",
    "        return 0.0\n",
    "    \n",
    "fem.f = f\n",
    "\n",
    "# Since the stiffness matrix and part of the load vector due to body forces\n",
    "# do not change during the computation, they can be precomputed.\n",
    "K = fem.compute_stiffness_matrix(nodes, elements, n_quad)\n",
    "K = K.tocsr()\n",
    "\n",
    "N = fem._get_num_unknowns(dof)\n",
    "U_dbc = dof[N:]\n",
    "Kd = K[:N, N:] @ U_dbc\n",
    "\n",
    "for i in range(nF):\n",
    "    F = i*dF\n",
    "    Fs.append(F*0.2)\n",
    "    fem.f = lambda x: f(x, F)\n",
    "    L = fem.compute_load_vector(nodes, elements, n_quad)\n",
    "    uh = spsolve(K[:N, :N], L[:N] - Kd)\n",
    "    Us.append(uh[-1])\n",
    "    \n",
    "plt.plot(Us, Fs, 'bo-', lw=2, markersize=5)\n",
    "plt.xlabel('Banana tip displacement')\n",
    "plt.ylabel('Total Momo force')"
   ]
  },
  {
   "cell_type": "code",
   "execution_count": 20,
   "id": "e7df748d-6281-49f8-837b-07f17f473776",
   "metadata": {},
   "outputs": [
    {
     "name": "stdout",
     "output_type": "stream",
     "text": [
      "Force to peel banana = 0.05556\n"
     ]
    }
   ],
   "source": [
    "slope = Fs[-1]/Us[-1]\n",
    "u_peel = 0.05\n",
    "F_peel = slope*u_peel\n",
    "print(f'Force to peel banana = {F_peel:.5f}')"
   ]
  },
  {
   "cell_type": "code",
   "execution_count": null,
   "id": "63a74e58-c005-4f74-905b-bd3fff237d6e",
   "metadata": {},
   "outputs": [],
   "source": []
  }
 ],
 "metadata": {
  "kernelspec": {
   "display_name": "Python 3.10.5 64-bit",
   "language": "python",
   "name": "python3"
  },
  "language_info": {
   "codemirror_mode": {
    "name": "ipython",
    "version": 3
   },
   "file_extension": ".py",
   "mimetype": "text/x-python",
   "name": "python",
   "nbconvert_exporter": "python",
   "pygments_lexer": "ipython3",
   "version": "3.10.5"
  },
  "vscode": {
   "interpreter": {
    "hash": "ba93e03e2e5be422990589c0928eb499d1a431986c5df80df2a54d39de0a70e9"
   }
  }
 },
 "nbformat": 4,
 "nbformat_minor": 5
}
